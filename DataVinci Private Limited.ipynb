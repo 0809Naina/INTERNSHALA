{
 "cells": [
  {
   "cell_type": "raw",
   "id": "08a4d22e",
   "metadata": {},
   "source": [
    "Youtube video link -https://youtu.be/NPEp_37AGLs"
   ]
  },
  {
   "cell_type": "raw",
   "id": "24784a8d",
   "metadata": {},
   "source": [
    "The reason i have choosed this video-\n",
    "I have choosed this video because in this video, Supply and demand trading can be seen as a strategy to understand the zones in which we can look to enter into trades. While support and resistance are defined by key levels of price, supply and demand is defined by a wider price area/zone.And how we can draw supply and demand zone for trading.\n",
    "and a simple trading strategy with the help of supply and demand zone. "
   ]
  },
  {
   "cell_type": "raw",
   "id": "ba9edbe5",
   "metadata": {},
   "source": [
    "Dataset link- https://github.com/0809Naina/INTERNSHALA"
   ]
  },
  {
   "cell_type": "markdown",
   "id": "5fc0dfb1",
   "metadata": {},
   "source": [
    "Code:"
   ]
  },
  {
   "cell_type": "code",
   "execution_count": 11,
   "id": "a8a2f3d9",
   "metadata": {},
   "outputs": [],
   "source": [
    "import pandas as pd"
   ]
  },
  {
   "cell_type": "code",
   "execution_count": 12,
   "id": "c3133ab5",
   "metadata": {},
   "outputs": [
    {
     "name": "stdout",
     "output_type": "stream",
     "text": [
      "Potential Entry Points for Long Trades:\n",
      "            date  close_price\n",
      "284   2019-12-11     5.530000\n",
      "419   2019-05-31     7.580000\n",
      "745   2018-02-12    15.800000\n",
      "1304  2015-11-20    39.259998\n",
      "1589  2014-10-06    39.560001\n",
      "1790  2013-12-17    48.980000\n",
      "2226  2012-03-23    23.620001\n",
      "2419  2011-06-17    26.440001\n",
      "2693  2010-05-18    21.410000\n",
      "2800  2009-12-11    21.719999\n",
      "2952  2009-05-07    26.910000\n",
      "3045  2008-12-22    23.139999\n",
      "3100  2008-10-03    35.279999\n",
      "4253  2004-03-08     8.900000\n",
      "4365  2003-09-25     8.000000\n",
      "4577  2002-11-20     9.625000\n"
     ]
    }
   ],
   "source": [
    "def moving_average_crossover_strategy(price_data, short_window, long_window):\n",
    "    # Calculate short-term and long-term moving averages\n",
    "    price_data['Short_MA'] = price_data['close_price'].rolling(window=short_window).mean()\n",
    "    price_data['Long_MA'] = price_data['close_price'].rolling(window=long_window).mean()\n",
    "\n",
    "    # Initialize a list to store trade signals ('Buy', 'Sell', or 'Hold')\n",
    "    trade_signals = []\n",
    "\n",
    "    # Loop through the price data to generate trade signals\n",
    "    for i in range(len(price_data)):\n",
    "        if price_data['Short_MA'][i] > price_data['Long_MA'][i] and price_data['Short_MA'][i - 1] <= price_data['Long_MA'][i - 1]:\n",
    "            # Short-term MA crossed above long-term MA (Buy signal)\n",
    "            trade_signals.append('Buy')\n",
    "        elif price_data['Short_MA'][i] < price_data['Long_MA'][i] and price_data['Short_MA'][i - 1] >= price_data['Long_MA'][i - 1]:\n",
    "            # Short-term MA crossed below long-term MA (Sell signal)\n",
    "            trade_signals.append('Sell')\n",
    "        else:\n",
    "            # No signal (Hold)\n",
    "            trade_signals.append('Hold')\n",
    "\n",
    "    # Add the trade signals to the DataFrame\n",
    "    price_data['Trade_Signal'] = trade_signals\n",
    "\n",
    "    return price_data\n",
    "# Example usage:\n",
    "# Assuming you have historical price data in a CSV file with 'Date' and 'Close' columns\n",
    "data = pd.read_csv(r\"C:\\Users\\Naina Sahu\\Downloads\\LETS GROW MORE\\GME_stock.csv\")\n",
    "short_window = 50\n",
    "long_window = 200\n",
    "data_with_signals = moving_average_crossover_strategy(data, short_window, long_window)\n",
    "\n",
    "# Filter for Buy signals to get potential entry points for long trades\n",
    "buy_signals = data_with_signals[data_with_signals['Trade_Signal'] == 'Buy']\n",
    "print(\"Potential Entry Points for Long Trades:\")\n",
    "print(buy_signals[['date', 'close_price']])\n",
    "\n",
    "# You can further refine the strategy, implement risk management, and explore other historical data strategies based on your requirements.\n"
   ]
  },
  {
   "cell_type": "code",
   "execution_count": null,
   "id": "bdec1642",
   "metadata": {},
   "outputs": [],
   "source": []
  },
  {
   "cell_type": "code",
   "execution_count": null,
   "id": "dd9e7b44",
   "metadata": {},
   "outputs": [],
   "source": []
  }
 ],
 "metadata": {
  "kernelspec": {
   "display_name": "Python 3 (ipykernel)",
   "language": "python",
   "name": "python3"
  },
  "language_info": {
   "codemirror_mode": {
    "name": "ipython",
    "version": 3
   },
   "file_extension": ".py",
   "mimetype": "text/x-python",
   "name": "python",
   "nbconvert_exporter": "python",
   "pygments_lexer": "ipython3",
   "version": "3.10.9"
  }
 },
 "nbformat": 4,
 "nbformat_minor": 5
}
